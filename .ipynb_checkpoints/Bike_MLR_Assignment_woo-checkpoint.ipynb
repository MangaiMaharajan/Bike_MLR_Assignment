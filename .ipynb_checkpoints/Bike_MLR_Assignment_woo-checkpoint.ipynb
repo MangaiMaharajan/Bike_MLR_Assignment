{
 "cells": [
  {
   "cell_type": "markdown",
   "id": "9aaa0965-999b-4c04-9f06-dc95bc350e21",
   "metadata": {},
   "source": [
    "Problem Statement\n",
    "\n",
    "A bike-sharing system is a service in which bikes are made available for shared use to individuals on a short term basis for a price or free. Many bike share systems allow people to borrow a bike from a \"dock\" which is usually computer-controlled wherein the user enters the payment information, and the system unlocks it. This bike can then be returned to another dock belonging to the same system.\n",
    "\n",
    "\n",
    "A US bike-sharing provider BoomBikes has recently suffered considerable dips in their revenues due to the ongoing Corona pandemic. The company is finding it very difficult to sustain in the current market scenario. So, it has decided to come up with a mindful business plan to be able to accelerate its revenue as soon as the ongoing lockdown comes to an end, and the economy restores to a healthy state. \n",
    "\n",
    "\n",
    "In such an attempt, BoomBikes aspires to understand the demand for shared bikes among the people after this ongoing quarantine situation ends across the nation due to Covid-19. They have planned this to prepare themselves to cater to the people's needs once the situation gets better all around and stand out from other service providers and make huge profits.\n",
    "\n",
    "\n",
    "They have contracted a consulting company to understand the factors on which the demand for these shared bikes depends. Specifically, they want to understand the factors affecting the demand for these shared bikes in the American market. The company wants to know:\n",
    "\n",
    "    Which variables are significant in predicting the demand for shared bikes.\n",
    "    How well those variables describe the bike demands\n",
    "\n",
    "Based on various meteorological surveys and people's styles, the service provider firm has gathered a large dataset on daily bike demands across the American market based on some factors. \n",
    "\n",
    "\n",
    "Business Goal:\n",
    "You are required to model the demand for shared bikes with the available independent variables. It will be used by the management to understand how exactly the demands vary with different features. They can accordingly manipulate the business strategy to meet the demand levels and meet the customer's expectations. Further, the model will be a good way for management to understand the demand dynamics of a new market. \n",
    "\n",
    "\n"
   ]
  },
  {
   "cell_type": "markdown",
   "id": "1cd51ad0-cd43-4f6f-88f6-a2b9da4a440c",
   "metadata": {},
   "source": [
    "## Model Selection using RFE (Bike Sharing System)"
   ]
  },
  {
   "cell_type": "markdown",
   "id": "0bf301a5-cb96-4659-9816-0361f0cbe750",
   "metadata": {},
   "source": [
    "### Importing and Understanding Data"
   ]
  },
  {
   "cell_type": "markdown",
   "id": "6e9afd69-27bc-4281-94bc-bbd2d93c9836",
   "metadata": {},
   "source": [
    "### Step 1: Importing Data"
   ]
  },
  {
   "cell_type": "code",
   "execution_count": null,
   "id": "5bb2391e-9c24-4f8a-9015-2ebd93c1b964",
   "metadata": {},
   "outputs": [],
   "source": [
    "# Supress Warnings\n",
    "\n",
    "import warnings\n",
    "warnings.filterwarnings('ignore')"
   ]
  },
  {
   "cell_type": "code",
   "execution_count": null,
   "id": "28169fbc-1c1c-4607-90b5-635c80cab5e4",
   "metadata": {},
   "outputs": [],
   "source": [
    "# Import necessary libraries\n",
    "\n",
    "import numpy as np\n",
    "import pandas as pd  \n",
    "import matplotlib.pyplot as plt  \n",
    "import seaborn as sns  \n",
    "from sklearn.model_selection import train_test_split\n",
    "from sklearn.preprocessing import MinMaxScaler\n",
    "# Importing RFE and LinearRegression\n",
    "from sklearn.feature_selection import RFE\n",
    "from sklearn.linear_model import LinearRegression\n",
    "from sklearn.metrics import mean_squared_error,r2_score\n",
    "import statsmodels.api as sm\n",
    "from statsmodels.stats.outliers_influence import variance_inflation_factor"
   ]
  },
  {
   "cell_type": "code",
   "execution_count": null,
   "id": "59f14b59-738f-4f7a-bbec-651252359fe7",
   "metadata": {},
   "outputs": [],
   "source": [
    "# Importing day.csv\n",
    "# Read the CSV file \"day.csv\" into a Pandas DataFrame named 'df'\n",
    "df_bike = pd.read_csv('day.csv')"
   ]
  },
  {
   "cell_type": "code",
   "execution_count": null,
   "id": "5cd47d54-faf0-4b65-bd85-b1ef2d35a585",
   "metadata": {},
   "outputs": [],
   "source": [
    "# Looking at the first five rows\n",
    "df_bike.head()\n",
    "df_bike.shape"
   ]
  },
  {
   "cell_type": "code",
   "execution_count": null,
   "id": "04ebdb1d-2893-47b1-bfc6-502f53e1a296",
   "metadata": {},
   "outputs": [],
   "source": [
    "df_bike.info()"
   ]
  },
  {
   "cell_type": "code",
   "execution_count": null,
   "id": "7cac5729-e9a9-496f-9217-dd24559d1267",
   "metadata": {},
   "outputs": [],
   "source": [
    "#checking for null values in dataset\n",
    "df_bike.isnull().sum()"
   ]
  },
  {
   "cell_type": "markdown",
   "id": "5d2c2f98-df9c-45ec-ab50-f42f062dfce1",
   "metadata": {},
   "source": [
    "### Step 2: Data Preparation"
   ]
  },
  {
   "cell_type": "code",
   "execution_count": null,
   "id": "f27e9e43-76de-4fea-ad72-d74be6c549fd",
   "metadata": {},
   "outputs": [],
   "source": [
    "# Checking outliers at 25%, 50%, 75%, 90%, 95% and 99%\n",
    "df_bike.describe(percentiles=[.25, .5, .75, .90, .95, .99])"
   ]
  },
  {
   "cell_type": "markdown",
   "id": "fcfb1f99-2aa1-4daa-962b-b1592f6efef8",
   "metadata": {},
   "source": [
    "From the distribution shown above, you can see that there no outliers in your data. The numbers are gradually increasing."
   ]
  },
  {
   "cell_type": "markdown",
   "id": "7e62d8d5-45ae-4abe-a3ed-f925afbbe232",
   "metadata": {},
   "source": [
    "#### Checking for Missing Values and Inputing Them"
   ]
  },
  {
   "cell_type": "markdown",
   "id": "97eca679-a3ab-428a-bbf5-882b781d3f3f",
   "metadata": {},
   "source": [
    "### 1. Instant: Indicates row number, not required"
   ]
  },
  {
   "cell_type": "code",
   "execution_count": null,
   "id": "fcfddbd3-338f-4a5e-9876-862454a3b7b1",
   "metadata": {},
   "outputs": [],
   "source": [
    "df_bike.drop(\"instant\",inplace=True,axis=1)"
   ]
  },
  {
   "cell_type": "code",
   "execution_count": null,
   "id": "06e7a726-b7d9-40fb-ad8d-38349b6f5ccc",
   "metadata": {},
   "outputs": [],
   "source": [
    "\n",
    "df_bike.info()"
   ]
  },
  {
   "cell_type": "code",
   "execution_count": null,
   "id": "b523ab32-b732-4b48-98e5-22ecb9aed4b4",
   "metadata": {},
   "outputs": [],
   "source": [
    "df_bike.head()"
   ]
  },
  {
   "cell_type": "markdown",
   "id": "1129c1ac-462c-44ca-99e8-a0afef5f4c7f",
   "metadata": {},
   "source": [
    "According to the problem statement, the dependent variable we should focus on is the total number of bike rentals, which is represented by the ‘cnt’ variable. \n",
    "The statement mentions:\n",
    "casual\n",
    "registered\n",
    "Target variable cnt is addition of casual and registered. so we are dropping casual and registered"
   ]
  },
  {
   "cell_type": "code",
   "execution_count": null,
   "id": "f2362062-5184-4da3-848a-19ab70ecc112",
   "metadata": {},
   "outputs": [],
   "source": [
    "df_bike.drop(columns=[\"casual\",\"registered\"],axis=1,inplace=True)"
   ]
  },
  {
   "cell_type": "code",
   "execution_count": null,
   "id": "103c748a-4c48-48bd-89f4-1f392dfd4e6c",
   "metadata": {},
   "outputs": [],
   "source": [
    "df_bike.head()"
   ]
  },
  {
   "cell_type": "code",
   "execution_count": null,
   "id": "97dd946a-b572-452f-ae29-6d8d4eb0cd59",
   "metadata": {},
   "outputs": [],
   "source": [
    "df_bike.info()"
   ]
  },
  {
   "cell_type": "markdown",
   "id": "2cf187c5-ebca-4288-b235-eec1f9921df9",
   "metadata": {},
   "source": [
    "dteday , yr & month represent the same value. so dropping dteday"
   ]
  },
  {
   "cell_type": "code",
   "execution_count": null,
   "id": "1b9f97dc-466f-417d-9c9d-43b5d8c0045f",
   "metadata": {},
   "outputs": [],
   "source": [
    "df_bike.drop(\"dteday\",axis=1,inplace=True)"
   ]
  },
  {
   "cell_type": "code",
   "execution_count": null,
   "id": "df6e1cce-6545-4202-8c5c-4828a706a7b1",
   "metadata": {},
   "outputs": [],
   "source": [
    "df_bike.head()"
   ]
  },
  {
   "cell_type": "code",
   "execution_count": null,
   "id": "66354750-04a5-42d5-ac5b-d9f54992a2e4",
   "metadata": {},
   "outputs": [],
   "source": [
    "df_bike.info()\n",
    "df_bike.shape"
   ]
  },
  {
   "cell_type": "markdown",
   "id": "e75f8f38-e151-4099-93dc-cf449e602288",
   "metadata": {},
   "source": [
    "## Checking the Correlation"
   ]
  },
  {
   "cell_type": "code",
   "execution_count": null,
   "id": "7008186a-de0a-4149-b4aa-54a139ece226",
   "metadata": {},
   "outputs": [],
   "source": [
    "df_bike[[\"weathersit\",\"temp\",\"atemp\",\"hum\",\"windspeed\",\"cnt\"]].corr()"
   ]
  },
  {
   "cell_type": "code",
   "execution_count": null,
   "id": "4dc164b2-d8f0-46a5-9230-b7ea445d3ce8",
   "metadata": {},
   "outputs": [],
   "source": [
    "sns.heatmap(df_bike[[\"weathersit\",\"temp\",\"atemp\",\"hum\",\"windspeed\",\"cnt\"]].corr(),cmap=\"YlGnBu\",annot=True)"
   ]
  },
  {
   "cell_type": "markdown",
   "id": "41d681ac-772e-4c37-9db8-60a27c578c19",
   "metadata": {},
   "source": [
    "When the correlation between two features is close to 1 (positive correlation) or -1 (negative correlation), it indicates that the features are highly similar, meaning that they provide almost the same information to the model. Dropping one of these highly correlated features is advisable for several reasons:\n",
    "\n",
    "1. **Multicollinearity**: \n",
    "   - High correlation between features leads to multicollinearity, which can cause instability in the regression coefficients. This makes it difficult to determine the individual effect of each feature on the dependent variable, as the model struggles to differentiate their contributions.\n",
    "\n",
    "2. **Model Simplification**:\n",
    "   - By removing redundant features, you simplify the model, making it easier to interpret and reducing the risk of overfitting. A simpler model with fewer features is usually more generalizable to unseen data.\n",
    "\n",
    "3. **Improved Computational Efficiency**:\n",
    "   - Reducing the number of features can decrease the computational cost and memory requirements, leading to faster model training and prediction times. This is particularly important when dealing with large datasets or complex models.\n",
    "\n",
    "4. **Avoiding Overfitting**:\n",
    "   - Highly correlated features can contribute to overfitting, as the model may become too finely tuned to the training data. Dropping one of these features helps the model generalize better to new data.\n",
    "\n",
    "5. **Better Predictor Stability**:\n",
    "   - With high multicollinearity, small changes in the data can lead to large changes in the model coefficients, making the model unstable. By dropping one of the highly correlated features, you increase the stability of the predictors.\n",
    "\n",
    "In summary, when two features are highly correlated, removing one of them can lead to a more stable, interpretable, and efficient model with better generalization to new data.\n"
   ]
  },
  {
   "cell_type": "markdown",
   "id": "1bda29d4-0db5-4841-aee8-a0eb694bcb05",
   "metadata": {},
   "source": [
    "**So we are dropping the column _atemp_**"
   ]
  },
  {
   "cell_type": "code",
   "execution_count": null,
   "id": "5a0daafa-9e21-4413-9204-cd4e340ed800",
   "metadata": {},
   "outputs": [],
   "source": [
    "df_bike.drop(\"atemp\",axis=1,inplace=True)"
   ]
  },
  {
   "cell_type": "code",
   "execution_count": null,
   "id": "446634c7-2dee-4596-8d2c-84b92e68aa02",
   "metadata": {},
   "outputs": [],
   "source": [
    "df_bike.info()"
   ]
  },
  {
   "cell_type": "markdown",
   "id": "71bf6f59-8a68-4b9a-927e-b7446321f880",
   "metadata": {},
   "source": [
    "### Modifying numerical variable as  Categorical variable as per the Data Dictionary for Data Visualization"
   ]
  },
  {
   "cell_type": "markdown",
   "id": "4a0df822-9089-4322-b6a3-b0f85b0e20c8",
   "metadata": {},
   "source": [
    "- season : season (1:spring, 2:summer, 3:fall, 4:winter)\n",
    "\t- yr : year (0: 2018, 1:2019)\n",
    "\t- mnth : month ( 1 to 12)\n",
    "\t- holiday : weather day is a holiday or not (extracted from http://dchr.dc.gov/page/holiday-schedule)\n",
    "\t- weekday : day of the week\n",
    "\t- workingday : if day is neither weekend nor holiday is 1, otherwise is 0.\n",
    "\t+ weathersit : \n",
    "\t\t- 1: Clear, Few clouds, Partly cloudy, Partly cloudy\n",
    "\t\t- 2: Mist + Cloudy, Mist + Broken clouds, Mist + Few clouds, Mist\n",
    "\t\t- 3: Light Snow, Light Rain + Thunderstorm + Scattered clouds, Light Rain + Scattered clouds\n",
    "\t\t- 4: Heavy Rain + Ice Pallets + Thunderstorm + Mist, Snow + Fog"
   ]
  },
  {
   "cell_type": "code",
   "execution_count": null,
   "id": "50e4e4a0-9722-4d28-9c2d-393159468f68",
   "metadata": {},
   "outputs": [],
   "source": [
    "#df_bike.yr=df_bike.yr.map({0:2018,1:2019})\n",
    "df_bike.mnth= df_bike.mnth.map({1:'January',2:'February',3:'March',4:'April',5:'May',6:'June',7:'July',8:'August',9:'September',10:'October',11:'November',12:'December'})\n",
    "df_bike.weekday = df_bike.weekday.map({0: 'Sunday', 1: 'Monday', 2: 'Tuesday', 3: 'Wednesday', 4: 'Thursday', 5: 'Friday', 6: 'Saturday'})\n",
    "df_bike.weathersit = df_bike.weathersit.map({1: 'Clear',2: 'Cloudy_mist',3: 'Light_Rain_Thunder',4: 'Heavy_Rain_thunder'})\n",
    "df_bike.season = df_bike.season.map({1:'spring', 2:'summer', 3:'fall', 4:'winter'})\n",
    "df_bike.holiday = df_bike.holiday.map({0:'holiday', 1:'workingday'})\n",
    "df_bike.workingday = df_bike.workingday.map({1:'workingday', 0:'holiday'})"
   ]
  },
  {
   "cell_type": "code",
   "execution_count": null,
   "id": "3ad2dcc3-26d3-4be1-9fb5-82dbf77baffa",
   "metadata": {},
   "outputs": [],
   "source": [
    "df_bike.head()"
   ]
  },
  {
   "cell_type": "markdown",
   "id": "7dc69820-77e8-42e5-ad98-664a94ee460b",
   "metadata": {},
   "source": [
    "### Data Visualization using Categorical variables against count of total rental bikes"
   ]
  },
  {
   "cell_type": "code",
   "execution_count": null,
   "id": "943b3f16-ac44-4b27-8714-1260ddeb4417",
   "metadata": {},
   "outputs": [],
   "source": [
    "categorical_variable=[\"season\",\"yr\",\"mnth\",\"weathersit\",\"weekday\",\"workingday\"]\n",
    "boxplot_title=[\"Season\",\"Year\",\"Month\",\"Weather\",\"Weekday\",\"Holiday\"]\n",
    "\n",
    "plt.figure(figsize=(15,15))\n",
    "for i, categorical_variable in enumerate(categorical_variable, 1):\n",
    "    plt.subplot(3, 3, i)\n",
    "    df_boxplot = df_bike[['cnt', categorical_variable]].copy()\n",
    "    df_boxplot[categorical_variable] = df_bike[categorical_variable].astype('category')\n",
    "    \n",
    "    sns.boxplot(x=categorical_variable, y='cnt', data=df_boxplot, width=0.4,notch=True, patch_artist=True,palette = ['plum', 'g', 'orange', 'b', 'r'])\n",
    "    plt.title(f'Boxplot of Bike Rentals by {boxplot_title[i-1]}')\n",
    "    plt.xlabel(boxplot_title[i-1])\n",
    "    plt.ylabel('Count of Bike Rentals')\n",
    "    plt.xticks(rotation=90)\n",
    "plt.tight_layout()\n",
    "plt.show()"
   ]
  },
  {
   "cell_type": "markdown",
   "id": "b6891bb3-4bb3-4c5b-8e03-3f95d2174690",
   "metadata": {},
   "source": [
    "## Categorical Values Box Plot Analysis\n",
    "\n",
    "1. **Season**: \n",
    "   - Fall having higher rental range where spring having less renatl range.\n",
    "\n",
    "2. **Year**:\n",
    "   - 2019 Rental of bike considerably increased compare to 2018.\n",
    "\n",
    "3. **Month**:\n",
    "   - September leads in monthly rental counts, with nearby months also showing strong demand. This trend follows seasonal patterns, suggesting a link between rentals and seasons.\n",
    "\n",
    "4. **Weather**:\n",
    "   - Rental having higher value during Clear weather than cloudy mist and light rain thunder.\n",
    "\n",
    "5. **WeekDay**:\n",
    "   - Saturday and Thursday more rental than other working days.\n",
    "\n",
    "6. **HoliDay**:\n",
    "   - Holiday rented less than working days.\n"
   ]
  },
  {
   "cell_type": "markdown",
   "id": "67bb322b-19e3-41d6-bd58-e86b119eff08",
   "metadata": {},
   "source": [
    "## Outliers removal"
   ]
  },
  {
   "cell_type": "code",
   "execution_count": null,
   "id": "ecaa9d01-3ec9-4ab6-af5d-209c1f64063c",
   "metadata": {},
   "outputs": [],
   "source": [
    "# Select rows from DataFrame 'df' where the season is \"Spring\" and cnt is greater than 7000\n",
    "df_filtered = df_bike[(df_bike['season'] == 'spring') & (df_bike['cnt'] > 7000)]"
   ]
  },
  {
   "cell_type": "code",
   "execution_count": null,
   "id": "a1981ac3-8367-456a-a699-7782c474e15f",
   "metadata": {},
   "outputs": [],
   "source": [
    "df_filtered.head()"
   ]
  },
  {
   "cell_type": "code",
   "execution_count": null,
   "id": "c041b22a-699b-4c0a-8a0e-e41e1cbb93ab",
   "metadata": {},
   "outputs": [],
   "source": [
    "df_bike.drop(df_bike[(df_bike.season == \"spring\") & (df_bike.cnt > 7000)].index,inplace=True,axis=0)"
   ]
  },
  {
   "cell_type": "code",
   "execution_count": null,
   "id": "4f4cfaff-909f-4553-9590-6977dab28750",
   "metadata": {},
   "outputs": [],
   "source": [
    "    sns.boxplot(x=df_bike.season, y='cnt', data=df_bike, width=0.4,notch=True, patch_artist=True,palette = ['plum', 'g', 'orange', 'b'])\n",
    "    plt.title(f'Boxplot of Bike Rentals Based on Season')\n",
    "    plt.xlabel('Season')\n",
    "    plt.ylabel('Count of Bike Rentals')\n",
    "    plt.xticks(rotation=90)\n",
    "    plt.show()"
   ]
  },
  {
   "cell_type": "markdown",
   "id": "1aa5750c-14e3-4652-a194-ed43e06e35be",
   "metadata": {},
   "source": [
    "## Checking the Correlation with categorical variables"
   ]
  },
  {
   "cell_type": "code",
   "execution_count": null,
   "id": "777e373a-5614-46ef-90ab-399907c3ac67",
   "metadata": {},
   "outputs": [],
   "source": [
    "df_bike.info()"
   ]
  },
  {
   "cell_type": "code",
   "execution_count": null,
   "id": "93c879d3-71b3-4fff-87b2-29d4b3bcb45a",
   "metadata": {},
   "outputs": [],
   "source": [
    "df_bike.head()"
   ]
  },
  {
   "cell_type": "code",
   "execution_count": null,
   "id": "40dbea6d-7ed6-455c-b4a8-d7652611dd52",
   "metadata": {},
   "outputs": [],
   "source": [
    "df_bike[[\"yr\",\"temp\",\"hum\",\"windspeed\",\"cnt\"]].corr()"
   ]
  },
  {
   "cell_type": "code",
   "execution_count": null,
   "id": "08787ec9-7980-421e-b135-a69eca6bc05b",
   "metadata": {},
   "outputs": [],
   "source": [
    "sns.heatmap(df_bike[[\"yr\",\"temp\",\"hum\",\"windspeed\",\"cnt\"]].corr(),cmap=\"PiYG\",annot=True)"
   ]
  },
  {
   "cell_type": "markdown",
   "id": "90568d7e-a1c4-4f4a-83b4-59a3dc51c74e",
   "metadata": {},
   "source": [
    "## *_Highest correlation with cnt is seen in temp._*"
   ]
  },
  {
   "cell_type": "code",
   "execution_count": null,
   "id": "d09595bd-fcd4-4cb3-be22-5f0fb6af8718",
   "metadata": {},
   "outputs": [],
   "source": [
    "sns.pairplot(df_bike,vars=[\"temp\",\"hum\",\"windspeed\",\"cnt\"])"
   ]
  },
  {
   "cell_type": "markdown",
   "id": "a1d8744c-5631-47b5-b38a-d997c927836c",
   "metadata": {},
   "source": [
    "### Dummy Variables Creation"
   ]
  },
  {
   "cell_type": "code",
   "execution_count": null,
   "id": "30d82b9b-ae03-447b-a91b-9bbfc27dac04",
   "metadata": {},
   "outputs": [],
   "source": [
    "season_dummy=pd.get_dummies(df_bike[\"season\"])\n",
    "season_dummy.head()\n",
    "df_bike[\"season\"].value_counts()\n",
    "season_dummy=pd.get_dummies(df_bike[\"season\"],drop_first=True)\n",
    "season_dummy = season_dummy.astype(int)\n",
    "season_dummy.head()\n",
    "df_bike=pd.concat([df_bike,season_dummy],axis=1)\n",
    "season_dummy.head()\n",
    "df_bike.head()"
   ]
  },
  {
   "cell_type": "code",
   "execution_count": null,
   "id": "1d7cc1c6-0220-4db3-a2b5-7b342782836b",
   "metadata": {},
   "outputs": [],
   "source": [
    "df_bike.head()"
   ]
  },
  {
   "cell_type": "code",
   "execution_count": null,
   "id": "70e30684-ff59-48b6-951f-56d00e48c0cc",
   "metadata": {},
   "outputs": [],
   "source": [
    "mnth_dummy=pd.get_dummies(df_bike[\"mnth\"])\n",
    "mnth_dummy.head()\n",
    "df_bike[\"mnth\"].value_counts()\n",
    "mnth_dummy=pd.get_dummies(df_bike[\"mnth\"],drop_first=True)\n",
    "mnth_dummy = mnth_dummy.astype(int)\n",
    "mnth_dummy.head()\n",
    "df_bike=pd.concat([df_bike,mnth_dummy],axis=1)\n",
    "mnth_dummy.head()\n",
    "df_bike.head()"
   ]
  },
  {
   "cell_type": "code",
   "execution_count": null,
   "id": "6b8c15d7-0437-40c8-b69e-d3287cd08909",
   "metadata": {},
   "outputs": [],
   "source": [
    "weekday_dummy=pd.get_dummies(df_bike[\"weekday\"])\n",
    "weekday_dummy.head()\n",
    "df_bike[\"weekday\"].value_counts()\n",
    "weekday_dummy=pd.get_dummies(df_bike[\"weekday\"],drop_first=True)\n",
    "weekday_dummy = weekday_dummy.astype(int)\n",
    "weekday_dummy.head()\n",
    "df_bike=pd.concat([df_bike,weekday_dummy],axis=1)\n",
    "weekday_dummy.head()\n",
    "df_bike.head()"
   ]
  },
  {
   "cell_type": "code",
   "execution_count": null,
   "id": "cbf780ef-82a9-4cee-bf3a-4febf9939c62",
   "metadata": {},
   "outputs": [],
   "source": [
    "weathersit_dummy=pd.get_dummies(df_bike[\"weathersit\"])\n",
    "weathersit_dummy.head()\n",
    "df_bike[\"weathersit\"].value_counts()\n",
    "weathersit_dummy=pd.get_dummies(df_bike[\"weathersit\"],drop_first=True)\n",
    "weathersit_dummy = weathersit_dummy.astype(int)\n",
    "weathersit_dummy.head()\n",
    "df_bike=pd.concat([df_bike,weathersit_dummy],axis=1)\n",
    "weathersit_dummy.head()\n",
    "df_bike.head()"
   ]
  },
  {
   "cell_type": "code",
   "execution_count": null,
   "id": "239927db-96f8-427e-a288-16a8d42e95f2",
   "metadata": {},
   "outputs": [],
   "source": [
    "df_bike.drop(columns=['season','mnth','weekday','weathersit'],inplace=True)"
   ]
  },
  {
   "cell_type": "code",
   "execution_count": null,
   "id": "209c8f4f-17fe-4bc4-82c7-e8123feb209f",
   "metadata": {},
   "outputs": [],
   "source": [
    "df_bike.head()"
   ]
  },
  {
   "cell_type": "code",
   "execution_count": null,
   "id": "608369d4-25b5-4cf3-a71b-9482bf2b2c14",
   "metadata": {},
   "outputs": [],
   "source": [
    "df_bike.shape"
   ]
  },
  {
   "cell_type": "code",
   "execution_count": null,
   "id": "1cdd1e4a-705a-43e7-8578-70cff61337f4",
   "metadata": {},
   "outputs": [],
   "source": [
    "df_bike.info()"
   ]
  },
  {
   "cell_type": "code",
   "execution_count": null,
   "id": "ecd190c3-4844-47ba-998d-51456c037596",
   "metadata": {},
   "outputs": [],
   "source": [
    "df_bike.head()"
   ]
  },
  {
   "cell_type": "code",
   "execution_count": null,
   "id": "5e802d3c-5832-4217-bddf-8eb8f9630349",
   "metadata": {},
   "outputs": [],
   "source": [
    "df_bike[\"workingday\"]=df_bike[\"workingday\"].apply(lambda x: 1 if x=='workingday' else 0)"
   ]
  },
  {
   "cell_type": "code",
   "execution_count": null,
   "id": "37632b6d-1f7a-4735-a4ae-9945bf9da7cf",
   "metadata": {},
   "outputs": [],
   "source": [
    "df_bike.head()"
   ]
  },
  {
   "cell_type": "code",
   "execution_count": null,
   "id": "931a69ed-55b2-4a55-9f82-44401acb0e3d",
   "metadata": {},
   "outputs": [],
   "source": [
    "df_bike.holiday.value_counts()"
   ]
  },
  {
   "cell_type": "code",
   "execution_count": null,
   "id": "61b62134-4afe-43d7-b7bf-3e0232c7cd9b",
   "metadata": {},
   "outputs": [],
   "source": [
    "df_bike[\"holiday\"]=df_bike[\"holiday\"].apply(lambda x: 1 if x=='holiday' else 0)"
   ]
  },
  {
   "cell_type": "code",
   "execution_count": null,
   "id": "630fc8e0-1e06-4214-a9e0-a6bb8804bb75",
   "metadata": {},
   "outputs": [],
   "source": [
    "df_bike.head()"
   ]
  },
  {
   "cell_type": "markdown",
   "id": "4cd19b55-102a-4c52-aceb-e4a484be3e0d",
   "metadata": {},
   "source": [
    "### Step 3: Test-Train Split"
   ]
  },
  {
   "cell_type": "markdown",
   "id": "5368144b-81a6-4f9c-81b5-53cf7cb249fc",
   "metadata": {},
   "source": [
    "## Splitting the Data into Training and Testing Sets"
   ]
  },
  {
   "cell_type": "code",
   "execution_count": null,
   "id": "2ed6f6ea-60f2-423e-806c-187b57b59d8f",
   "metadata": {},
   "outputs": [],
   "source": [
    "# We specify this so that the train and test data set always have the same rows, respectively\n",
    "\n",
    "df_bike_train, df_bike_test = train_test_split(df_bike, train_size = 0.7, test_size = 0.3, random_state = 100)"
   ]
  },
  {
   "cell_type": "code",
   "execution_count": null,
   "id": "590d2b0d-91b9-4c73-9be8-5521bef6a890",
   "metadata": {},
   "outputs": [],
   "source": [
    "df_bike_train.shape"
   ]
  },
  {
   "cell_type": "code",
   "execution_count": null,
   "id": "5804e225-33f0-47df-90c0-f984256d182b",
   "metadata": {},
   "outputs": [],
   "source": [
    "df_bike_test.shape"
   ]
  },
  {
   "cell_type": "markdown",
   "id": "97505f08-5e3a-46d3-a493-ebf078e4e5b2",
   "metadata": {},
   "source": [
    "### Step 4: Feature Scaling"
   ]
  },
  {
   "cell_type": "markdown",
   "id": "2c477ee7-8eb4-4a0f-b7a7-cb392805b77b",
   "metadata": {},
   "source": [
    "### Rescaling the Features "
   ]
  },
  {
   "cell_type": "markdown",
   "id": "c82089d4-f576-426f-be1e-195254f0048f",
   "metadata": {},
   "source": [
    "Feature Scaling: Another important aspect to consider is feature scaling. When you have a lot\n",
    "of independent variables in a model, a lot of them might be on very different scales which will lead a\n",
    "model with very weird coefficients that might be difficult to interpret. So we need to scale features\n",
    "because of two reasons:\n",
    "1. Ease of interpretation\n",
    "2. Faster convergence for gradient descent methods\n",
    "You can scale the features using two very popular method:\n",
    "1. Standardizing: The variables are scaled in such a way that their mean is zero and standard\n",
    "deviation is one.\n",
    "2. MinMax Scaling: The variables are scaled in such a way that all the values lie between zero and one\n",
    "using the maximum and the minimum values in the data.\n",
    "It is important to note that scaling just affects the coefficients and none of the other parameters\n",
    "like t-statistic, F statistic, p-values, R-square, etc"
   ]
  },
  {
   "cell_type": "markdown",
   "id": "452d6d41-83a4-4100-95f6-7c175d845a3a",
   "metadata": {},
   "source": [
    "_**We will use MinMax scaling.**_"
   ]
  },
  {
   "cell_type": "code",
   "execution_count": null,
   "id": "90490100-9889-4d60-8bb7-9150e54d7567",
   "metadata": {},
   "outputs": [],
   "source": [
    "scaler = MinMaxScaler()"
   ]
  },
  {
   "cell_type": "code",
   "execution_count": null,
   "id": "6066e8dc-b0f3-4424-a02f-f72d7f8b8dce",
   "metadata": {},
   "outputs": [],
   "source": [
    "df_bike_train.head()"
   ]
  },
  {
   "cell_type": "code",
   "execution_count": null,
   "id": "4db4bf1a-4ac5-4774-a2d4-4f871a7cb7c3",
   "metadata": {},
   "outputs": [],
   "source": [
    "# Apply scaler() to all the columns except the 'yes-no' and 'dummy' variables\n",
    "num_vars = ['temp', 'hum', 'windspeed','cnt']\n",
    "\n",
    "#df_bike_train[num_vars] = scaler.fit_transform(df_bike_train[num_vars])\n",
    "\n",
    "df_bike_train.head()"
   ]
  },
  {
   "cell_type": "code",
   "execution_count": null,
   "id": "19eeaf64-7ca1-493a-bcb6-b7253755e9d2",
   "metadata": {},
   "outputs": [],
   "source": [
    "df_bike_train.describe()"
   ]
  },
  {
   "cell_type": "markdown",
   "id": "a2a36c44-ea1b-4b5d-9865-86a5f985b457",
   "metadata": {},
   "source": [
    "### Here all min =0 and max=0"
   ]
  },
  {
   "cell_type": "markdown",
   "id": "23412020-3cb5-48de-8d8b-e2b43f68c474",
   "metadata": {},
   "source": [
    "### Dividing into X and Y sets for the model building"
   ]
  },
  {
   "cell_type": "code",
   "execution_count": null,
   "id": "b54de14f-54d3-497a-9ac5-752688d4cc7b",
   "metadata": {},
   "outputs": [],
   "source": [
    "y_train=df_bike_train.pop(\"cnt\")\n",
    "X_train=df_bike_train"
   ]
  },
  {
   "cell_type": "markdown",
   "id": "1cac825b-60c7-46db-8a09-b4d750ced96c",
   "metadata": {},
   "source": [
    "### Step 5: Model Building"
   ]
  },
  {
   "cell_type": "markdown",
   "id": "be8761a1-2037-4740-bac0-d7b0910b41d6",
   "metadata": {},
   "source": [
    "## Feature Selection Using RFE\n",
    "\n",
    "This time, we will be using the **LinearRegression function from SciKit Learn** for its compatibility with RFE (Recursive feature elimination which is a utility from sklearn)"
   ]
  },
  {
   "cell_type": "code",
   "execution_count": null,
   "id": "45a41ce9-e06d-4814-bf0e-640651105410",
   "metadata": {},
   "outputs": [],
   "source": [
    "# Running RFE with the output number of the variable equal to 20\n",
    "lr = LinearRegression()\n",
    "rfe = RFE(lr, n_features_to_select=20)  \n",
    "rfe = RFE(estimator=lr, n_features_to_select=10, step=1)\n",
    "rfe.fit(X_train, y_train)\n",
    "ranking = rfe.ranking_\n",
    "selected_features = rfe.support_\n",
    "selected_feature_names = X_train.columns[selected_features]\n",
    "print(\"Selected Features:\", selected_feature_names)"
   ]
  },
  {
   "cell_type": "code",
   "execution_count": null,
   "id": "634312d2-57e0-45f4-8261-a2c1d946233f",
   "metadata": {},
   "outputs": [],
   "source": [
    "#list(zip(X_train.columns,rfe.support_,rfe.ranking_))\n",
    "rfe_table=pd.DataFrame(list(zip(X_train.columns[selected_features],rfe.support_,rfe.ranking_)),columns=[\"Feature\",\"support\",\"Rank\"])\n",
    "rfe_table.sort_values(by=\"Rank\",ascending=True)"
   ]
  },
  {
   "cell_type": "code",
   "execution_count": null,
   "id": "2a50bb56-9f9d-4bae-8788-4cf0fb7adb4b",
   "metadata": {},
   "outputs": [],
   "source": [
    "x_train_rfe = X_train[rfe_table.Feature]\n",
    "x_train_rfe.head()"
   ]
  },
  {
   "cell_type": "markdown",
   "id": "5d937c44-e530-4abc-aae3-ed0d935f5da3",
   "metadata": {},
   "source": [
    "### Assessing the model with StatsModels\n",
    "\n",
    "This time, we will be using the P-value and VIF"
   ]
  },
  {
   "cell_type": "code",
   "execution_count": null,
   "id": "06aaaf20-079a-46dd-b2fc-3f99bc0bfb9b",
   "metadata": {},
   "outputs": [],
   "source": [
    "# Add a constant column to the DataFrame 'X_train' containing only the \"temp\" feature\n",
    "x_train_lr = sm.add_constant(X_train[[\"temp\"]])\n",
    "\n",
    "# Fit Ordinary Least Squares (OLS) regression model using statsmodels\n",
    "lr = sm.OLS(y_train, x_train_lr).fit()"
   ]
  },
  {
   "cell_type": "code",
   "execution_count": null,
   "id": "514c6c1e-f532-4965-9631-f529aaa4a415",
   "metadata": {},
   "outputs": [],
   "source": [
    "lr.params"
   ]
  },
  {
   "cell_type": "code",
   "execution_count": null,
   "id": "5d051e16-7e0c-457a-b765-4df9ac61c7cf",
   "metadata": {},
   "outputs": [],
   "source": [
    "lr.summary()"
   ]
  },
  {
   "cell_type": "markdown",
   "id": "4e02e400-73ee-4b61-aee2-8a3c76098d2a",
   "metadata": {},
   "source": [
    "### **_MODEL 1_**"
   ]
  },
  {
   "cell_type": "code",
   "execution_count": null,
   "id": "c6cde76a-beea-4f27-aab1-2e458ecf3b0e",
   "metadata": {},
   "outputs": [],
   "source": [
    "# Add all constant column to the DataFrame 'X_train' \n",
    "x_train_lr = sm.add_constant(X_train)\n",
    "\n",
    "# Fit Ordinary Least Squares (OLS) regression model using statsmodels\n",
    "lr_md1 = sm.OLS(y_train, x_train_lr).fit()"
   ]
  },
  {
   "cell_type": "code",
   "execution_count": null,
   "id": "837b1ca3-0d83-439d-a691-b545c4abc881",
   "metadata": {},
   "outputs": [],
   "source": [
    "lr_md1.params"
   ]
  },
  {
   "cell_type": "code",
   "execution_count": null,
   "id": "6e58270f-7455-46b1-973a-e3e76f1d8ecb",
   "metadata": {},
   "outputs": [],
   "source": [
    "lr_md1.summary()"
   ]
  },
  {
   "cell_type": "markdown",
   "id": "10a21b19-dffe-45cf-8f97-40d6731775be",
   "metadata": {},
   "source": [
    "### **Checking VIF**"
   ]
  },
  {
   "cell_type": "markdown",
   "id": "9e8b3abb-593f-46f6-b48f-9a85b6a87d02",
   "metadata": {},
   "source": [
    "Variance Inflation Factor (VIF): Now, looking at correlations might not always be useful as it is\n",
    "possible that just one variable might not completely explain some other variable but some of the\n",
    "variables combined might be able to do that. To check this sort of relations between variables,\n",
    "we use VIF. VIF basically helps explaining the relationship of one independent variable with all\n",
    "the other independent variables. The formulation of VIF is given below:\n",
    "The common heuristic for VIF is that while a VIF greater than 10 is definitely high, a VIF of greater than\n",
    "5 should also not be ignored and inspected appropriately.\n",
    "Now, after any multicollinearity has been detected in the model, you need to deal with it appropriately in\n",
    "order to avoid building an unnecessarily complex"
   ]
  },
  {
   "cell_type": "code",
   "execution_count": null,
   "id": "f5d0d2b6-518d-495e-8d8b-4f3a5108dcb0",
   "metadata": {},
   "outputs": [],
   "source": [
    "vif = pd.DataFrame()\n",
    "vif['Features'] = X_train.columns\n",
    "vif['VIF'] = [variance_inflation_factor(X_train.values, i) for i in range(X_train.shape[1])]\n",
    "vif['VIF'] = round(vif['VIF'], 2)\n",
    "vif = vif.sort_values(by = \"VIF\", ascending = False)\n",
    "vif"
   ]
  },
  {
   "cell_type": "markdown",
   "id": "d03bc02a-2b7b-4cfc-be4e-857932d0e89e",
   "metadata": {},
   "source": [
    "### **Removing the values based on High VIF & P value**"
   ]
  },
  {
   "cell_type": "code",
   "execution_count": null,
   "id": "a4018e61-a1df-48f9-b77d-fed89571635f",
   "metadata": {},
   "outputs": [],
   "source": [
    "# Based on higher VIF value drop column hum\n",
    "X_train.drop([\"hum\"],axis=1,inplace=True)"
   ]
  },
  {
   "cell_type": "markdown",
   "id": "b7f952a8-bbf9-4805-a284-5454ea9685e1",
   "metadata": {},
   "source": [
    "### **_MODEL 2_**"
   ]
  },
  {
   "cell_type": "code",
   "execution_count": null,
   "id": "b8bf4ea6-fc61-48d2-8d83-dc42d2d7aaec",
   "metadata": {},
   "outputs": [],
   "source": [
    "x_train_lr=sm.add_constant(X_train)\n",
    "lr_md2=sm.OLS(y_train,x_train_lr).fit()\n",
    "lr_md2.summary()"
   ]
  },
  {
   "cell_type": "code",
   "execution_count": null,
   "id": "6b4c7048-a30c-4708-831d-7f19ee9b0861",
   "metadata": {},
   "outputs": [],
   "source": [
    "vif = pd.DataFrame()\n",
    "vif['Features'] = X_train.columns\n",
    "vif['VIF'] = [variance_inflation_factor(X_train.values, i) for i in range(X_train.shape[1])]\n",
    "vif['VIF'] = round(vif['VIF'], 2)\n",
    "vif = vif.sort_values(by = \"VIF\", ascending = False)\n",
    "vif"
   ]
  },
  {
   "cell_type": "code",
   "execution_count": null,
   "id": "edba41d8-d5a7-4ca1-aca8-516a6f62640d",
   "metadata": {},
   "outputs": [],
   "source": [
    "X_train.info()"
   ]
  },
  {
   "cell_type": "markdown",
   "id": "182e4232-bef6-43b0-91d4-fd0a409fb2a0",
   "metadata": {},
   "source": [
    "### **_MODEL 3_**"
   ]
  },
  {
   "cell_type": "code",
   "execution_count": null,
   "id": "daae5cb3-37f1-4e2c-bf74-4daf70a2ce22",
   "metadata": {},
   "outputs": [],
   "source": [
    "# Based on higher P  value drop column summar\n",
    "X_train.drop([\"summer\"],axis=1,inplace=True)"
   ]
  },
  {
   "cell_type": "code",
   "execution_count": null,
   "id": "08a342bb-0e43-4128-b143-74d530d29971",
   "metadata": {},
   "outputs": [],
   "source": [
    "x_train_sm=sm.add_constant(X_train)\n",
    "lr_md3=sm.OLS(y_train,x_train_sm).fit()\n",
    "lr_md3.summary()"
   ]
  },
  {
   "cell_type": "code",
   "execution_count": null,
   "id": "061eca8b-300c-46d1-868b-0e7dc29955e0",
   "metadata": {},
   "outputs": [],
   "source": [
    "vif = pd.DataFrame()\n",
    "vif['Features'] = X_train.columns\n",
    "vif['VIF'] = [variance_inflation_factor(X_train.values, i) for i in range(X_train.shape[1])]\n",
    "vif['VIF'] = round(vif['VIF'], 2)\n",
    "vif = vif.sort_values(by = \"VIF\", ascending = False)\n",
    "vif"
   ]
  },
  {
   "cell_type": "code",
   "execution_count": null,
   "id": "b429d96c-b440-414e-9f28-16974223fa3b",
   "metadata": {},
   "outputs": [],
   "source": [
    "#Based on high P values dropping below columns\n",
    "del_col=[\"February\",\"June\",\"October\",\"Saturday\",\"Sunday\",\"Thursday\"]\n",
    "X_train.drop(del_col,axis=1,inplace=True)"
   ]
  },
  {
   "cell_type": "markdown",
   "id": "79765ca4-c35c-428b-bba5-e5f619212bbe",
   "metadata": {},
   "source": [
    "### **_MODEL 4_**"
   ]
  },
  {
   "cell_type": "code",
   "execution_count": null,
   "id": "98d45422-d169-42d5-813c-06d406e5c7de",
   "metadata": {},
   "outputs": [],
   "source": [
    "x_train_sm=sm.add_constant(X_train)\n",
    "lr_md4=sm.OLS(y_train,x_train_sm).fit()\n",
    "lr_md4.summary()"
   ]
  },
  {
   "cell_type": "code",
   "execution_count": null,
   "id": "4a5f5b4e-15a3-417b-af8a-e0da3fc4c4a7",
   "metadata": {},
   "outputs": [],
   "source": [
    "vif=pd.DataFrame()\n",
    "vif[\"feature\"]=X_train.columns\n",
    "vif[\"VIF\"]=[variance_inflation_factor(X_train.values,i) for i in range(X_train.shape[1])]\n",
    "vif[\"VIF\"]=vif[\"VIF\"].round(2)\n",
    "vif=vif.sort_values(by=\"VIF\",ascending=True)\n",
    "vif"
   ]
  },
  {
   "cell_type": "code",
   "execution_count": null,
   "id": "93fe47ab-c2d8-4c59-b5ae-486408643586",
   "metadata": {},
   "outputs": [],
   "source": [
    "X_train.columns"
   ]
  },
  {
   "cell_type": "code",
   "execution_count": null,
   "id": "490550a9-df9f-464d-93d0-18a716d221f6",
   "metadata": {},
   "outputs": [],
   "source": [
    "vif=pd.DataFrame()\n",
    "vif[\"feature\"]=X_train.columns\n",
    "vif[\"VIF\"]=[variance_inflation_factor(X_train.values,i) for i in range(X_train.shape[1])]\n",
    "vif[\"VIF\"]=vif[\"VIF\"].round(2)\n",
    "vif=vif.sort_values(by=\"VIF\",ascending=True)\n",
    "vif"
   ]
  },
  {
   "cell_type": "code",
   "execution_count": null,
   "id": "6254339b-64b0-49d8-a714-106e9aae92f4",
   "metadata": {},
   "outputs": [],
   "source": [
    "#based on higher VIF and PValue drop columns Moday, Tuesday, Workingday,holiday,august & march\n",
    "drop_col=[\"August\",\"March\",\"holiday\",\"Monday\",\"Tuesday\",\"workingday\"]\n",
    "X_train.drop(drop_col,axis=1,inplace=True)"
   ]
  },
  {
   "cell_type": "code",
   "execution_count": null,
   "id": "17071147-e0ad-490f-bf4a-8a34065501a9",
   "metadata": {},
   "outputs": [],
   "source": [
    "X_train.info()\n",
    "    "
   ]
  },
  {
   "cell_type": "markdown",
   "id": "50ee6bd8-5c3d-4d4a-8d60-c7828ee5fc9a",
   "metadata": {},
   "source": [
    "### **_MODEL 5_**"
   ]
  },
  {
   "cell_type": "code",
   "execution_count": null,
   "id": "46e2b3bf-74e7-4b07-9652-6dffb1fa91f2",
   "metadata": {},
   "outputs": [],
   "source": [
    "x_train_sm=sm.add_constant(X_train)\n",
    "lr_md5=sm.OLS(y_train,x_train_sm).fit()\n",
    "lr_md5.summary()"
   ]
  },
  {
   "cell_type": "code",
   "execution_count": null,
   "id": "4619276e-bc91-41f6-89ee-fb616ff1b04f",
   "metadata": {},
   "outputs": [],
   "source": [
    "vif=pd.DataFrame()\n",
    "vif[\"feature\"]=X_train.columns\n",
    "vif[\"VIF\"]=[variance_inflation_factor(X_train.values,i) for i in range(X_train.shape[1])]\n",
    "vif[\"VIF\"]=vif[\"VIF\"].round()\n",
    "vif=vif.sort_values(by=\"VIF\", ascending=False)\n",
    "vif"
   ]
  },
  {
   "cell_type": "code",
   "execution_count": null,
   "id": "452a2fa2-b207-476d-af7c-038c6711597f",
   "metadata": {},
   "outputs": [],
   "source": [
    "#based on high p-value drop columns,wednesday\n",
    "drop_col=[\"Wednesday\"]\n",
    "X_train.drop(drop_col,axis=1,inplace=True)"
   ]
  },
  {
   "cell_type": "code",
   "execution_count": null,
   "id": "230f96f6-f724-446a-81b8-a708d7a4c793",
   "metadata": {},
   "outputs": [],
   "source": [
    "X_train.info()"
   ]
  },
  {
   "cell_type": "markdown",
   "id": "a16e0256-e6ca-46a4-9868-5bf5ac05e486",
   "metadata": {},
   "source": [
    "### **_MODEL 6_**"
   ]
  },
  {
   "cell_type": "code",
   "execution_count": null,
   "id": "56db36ba-7ebb-422d-8a48-583361a789fd",
   "metadata": {},
   "outputs": [],
   "source": [
    "x_train_sm=sm.add_constant(X_train)\n",
    "lr_md6=sm.OLS(y_train,x_train_sm).fit()\n",
    "lr_md6.summary()"
   ]
  },
  {
   "cell_type": "code",
   "execution_count": null,
   "id": "971a75f2-b429-4694-abea-f4b1c841f709",
   "metadata": {},
   "outputs": [],
   "source": [
    "X_train.columns"
   ]
  },
  {
   "cell_type": "code",
   "execution_count": null,
   "id": "306604b1-c1ed-480b-a994-69b0a314585a",
   "metadata": {},
   "outputs": [],
   "source": [
    "vif=pd.DataFrame()\n",
    "vif[\"Feature\"]=X_train.columns\n",
    "vif[\"VIF\"]=[variance_inflation_factor(X_train.values,i) for i in range(X_train.shape[1])]\n",
    "vif[\"VIF\"]=vif[\"VIF\"].round(2)\n",
    "vif=vif.sort_values(by=\"VIF\",ascending=False)\n",
    "vif"
   ]
  },
  {
   "cell_type": "markdown",
   "id": "154b3b6f-923f-4237-831b-d39b3c585f9f",
   "metadata": {},
   "source": [
    "### Step 6: **_Residual Analysis of the train data_**"
   ]
  },
  {
   "cell_type": "markdown",
   "id": "e2a7f6c4-a862-45e9-bb0e-13d559d6bd17",
   "metadata": {},
   "source": [
    "### **_MODEL 7_**"
   ]
  },
  {
   "cell_type": "code",
   "execution_count": null,
   "id": "44e9e7fa-6b41-45d1-a80c-5a3a15b8c981",
   "metadata": {},
   "outputs": [],
   "source": [
    "x_train_sm = sm.add_constant(X_train)\n",
    "lr_md7=sm.OLS(y_train,x_train_sm).fit()\n",
    "y_train_pred=lr_md7.predict(x_train_sm)"
   ]
  },
  {
   "cell_type": "code",
   "execution_count": null,
   "id": "89e5934d-27d3-41bb-8dce-4ea7be412b5d",
   "metadata": {},
   "outputs": [],
   "source": [
    "figure = plt.figure()\n",
    "sns.distplot((y_train - y_train_pred), bins = 10)\n",
    "figure.suptitle('Error Terms', fontsize = 18)                   \n",
    "plt.xlabel('Errors', fontsize = 18)"
   ]
  },
  {
   "cell_type": "markdown",
   "id": "b69d0e5c-d37e-4724-bb57-8b8b55da133e",
   "metadata": {},
   "source": [
    "### Prediction using Test Data "
   ]
  },
  {
   "cell_type": "code",
   "execution_count": null,
   "id": "bc8c6976-5ee7-440b-9c13-7cf24c16cfab",
   "metadata": {},
   "outputs": [],
   "source": [
    "df_bike_test.info()"
   ]
  },
  {
   "cell_type": "code",
   "execution_count": null,
   "id": "ad1d1c6d-9fbd-4ce9-9abb-46329b2ba7e7",
   "metadata": {},
   "outputs": [],
   "source": [
    "df_bike_test.head()"
   ]
  },
  {
   "cell_type": "code",
   "execution_count": null,
   "id": "62b252fe-663c-4d3d-a868-c5870c6a6878",
   "metadata": {},
   "outputs": [],
   "source": [
    "## making scaler variables except dummy and yes/no data\n",
    "test_vars = test_vars = ['temp','hum','windspeed']\n",
    "\n",
    "#df_bike_test[test_vars] = scaler.fit_transform(df_bike_test[test_vars])"
   ]
  },
  {
   "cell_type": "code",
   "execution_count": null,
   "id": "1f192531-1c95-4eae-b2e9-50d5c32d4638",
   "metadata": {},
   "outputs": [],
   "source": [
    "df_bike_test.describe()"
   ]
  },
  {
   "cell_type": "code",
   "execution_count": null,
   "id": "1adb462d-7bba-44fd-a44c-7c7b0aa7bfa4",
   "metadata": {},
   "outputs": [],
   "source": [
    "y_test=df_bike_test.pop(\"cnt\")\n",
    "x_test=df_bike_test"
   ]
  },
  {
   "cell_type": "code",
   "execution_count": null,
   "id": "8a1e88bb-4119-415e-b84a-9cb7958e7ae7",
   "metadata": {},
   "outputs": [],
   "source": [
    "x_test_lr = sm.add_constant(x_test)\n"
   ]
  },
  {
   "cell_type": "markdown",
   "id": "c2a2777c-1f16-4a50-bd27-3ecb5e6da280",
   "metadata": {},
   "source": [
    "### Step 7: Making predictions on the test set"
   ]
  },
  {
   "cell_type": "code",
   "execution_count": null,
   "id": "b306c8e6-b4e3-4956-a15f-9b2d2f01c582",
   "metadata": {},
   "outputs": [],
   "source": [
    "X_train.head()"
   ]
  },
  {
   "cell_type": "code",
   "execution_count": null,
   "id": "202b8b68-06db-4d47-9315-9b844b349997",
   "metadata": {},
   "outputs": [],
   "source": [
    "x_test_lr.head()"
   ]
  },
  {
   "cell_type": "code",
   "execution_count": null,
   "id": "b77d9e7e-6769-4417-86f6-5e92645ef172",
   "metadata": {},
   "outputs": [],
   "source": [
    "X_train.columns"
   ]
  },
  {
   "cell_type": "code",
   "execution_count": null,
   "id": "29405e42-57a3-4a27-8b16-ef2c678f3590",
   "metadata": {},
   "outputs": [],
   "source": [
    "x_test_cols=['yr', 'temp', 'windspeed', 'spring', 'winter', 'December', 'January','July', 'May', 'November', 'September', 'Cloudy_mist','Light_Rain_Thunder']\n",
    "x_test_sm=x_test_lr[x_test_cols]\n"
   ]
  },
  {
   "cell_type": "code",
   "execution_count": null,
   "id": "74e23914-5812-4dc6-b930-2ad4e563baca",
   "metadata": {},
   "outputs": [],
   "source": [
    "X_train.head()"
   ]
  },
  {
   "cell_type": "code",
   "execution_count": null,
   "id": "bdb9ae0a-ddb6-4335-bb72-4995abb23442",
   "metadata": {},
   "outputs": [],
   "source": [
    "x_test_sm.head()"
   ]
  },
  {
   "cell_type": "code",
   "execution_count": null,
   "id": "b47c785b-2e36-43b3-bbed-e11bc3d38989",
   "metadata": {},
   "outputs": [],
   "source": [
    "x_test_lr = sm.add_constant(x_test_sm)\n",
    "y_test_pred = lr_md7.predict(x_test_lr)\n",
    "y_test_pred.head()"
   ]
  },
  {
   "cell_type": "markdown",
   "id": "e9f070cb-da55-40e1-922e-34e2597d1358",
   "metadata": {},
   "source": [
    "### **Plot for y_test VS y-test_pred**"
   ]
  },
  {
   "cell_type": "code",
   "execution_count": null,
   "id": "fa3d96bd-faa0-4038-9587-ccb14622f68a",
   "metadata": {},
   "outputs": [],
   "source": [
    "fig = plt.figure()\n",
    "plt.scatter(y_test, y_test_pred)\n",
    "fig.suptitle('y_test vs y_test_pred', fontsize = 22)               \n",
    "plt.xlabel('y_test', fontsize = 20)                           \n",
    "plt.ylabel('y_test_pred', fontsize = 20)"
   ]
  },
  {
   "cell_type": "markdown",
   "id": "a9c894ff-52cb-4251-9b11-18e161c5bb59",
   "metadata": {},
   "source": [
    "### **Plot for Actual VS Predict values**"
   ]
  },
  {
   "cell_type": "code",
   "execution_count": null,
   "id": "52ebda8c-7022-457f-a876-d6244a1bfa99",
   "metadata": {},
   "outputs": [],
   "source": [
    "# Plot Actual vs Predicted \n",
    "fig,ax = plt.subplots()\n",
    "fig.set_figheight(8)\n",
    "fig.set_figwidth(20)\n",
    "l1,=ax.plot(range(len(y_test)),y_test)\n",
    "l2, = ax.plot(range(len(y_test_pred)),y_test_pred)\n",
    "plt.legend([l1,l2],['Actual','Predicted'])\n",
    "plt.title('Predicted vs Actual No of CNT');\n",
    "plt.ylabel('No of Bike Rentals')\n",
    "plt.xticks([])\n",
    "plt.show()"
   ]
  },
  {
   "cell_type": "markdown",
   "id": "8a9a579a-cb8d-4bb2-8859-a1dd37038e88",
   "metadata": {},
   "source": [
    "### **Regression Plot**"
   ]
  },
  {
   "cell_type": "code",
   "execution_count": null,
   "id": "5492d8ea-c805-415c-ae3a-8acbc0fc5c05",
   "metadata": {},
   "outputs": [],
   "source": [
    "plt.figure()\n",
    "sns.set_style('dark')\n",
    "sns.regplot(x=y_test, y=y_test_pred, ci=None, fit_reg=True,scatter_kws={\"color\": \"green\",\"s\":50,\"alpha\":0.5}, robust=True,line_kws={\"color\": \"red\"})\n",
    "plt.title('y_test vs y_test_pred', fontsize=20)\n",
    "plt.xlabel('y_test', fontsize=18)\n",
    "plt.ylabel('y_pred', fontsize=16)\n",
    "plt.show()"
   ]
  },
  {
   "cell_type": "markdown",
   "id": "3829a658-0a47-486b-956b-f74056b70b1e",
   "metadata": {},
   "source": [
    "### **_Step: 8 VERIFYING R SQUARED VALUE FOR TRAIN AND TEST DATA_**"
   ]
  },
  {
   "cell_type": "code",
   "execution_count": null,
   "id": "463a7cbd-504f-4d93-a130-8eb472f1c224",
   "metadata": {},
   "outputs": [],
   "source": [
    "mse = np.sqrt(mean_squared_error(y_test, y_test_pred))\n",
    "rsq_test = r2_score(y_test, y_test_pred)\n",
    "rsq_train = r2_score(y_train, y_train_pred)\n",
    "print('R-squared for train data:',rsq_train)\n",
    "print('R-squared for test data:',rsq_test)\n",
    "print('Mean Squared Error',round(mse,3))"
   ]
  },
  {
   "cell_type": "markdown",
   "id": "3b16aa12-f0e9-42b2-84ec-b6fc1d59e5a3",
   "metadata": {},
   "source": [
    "### **_CALCULATE RSQUEARE FOR TEST DATA_**"
   ]
  },
  {
   "cell_type": "code",
   "execution_count": null,
   "id": "232fa91a-54f5-4dba-818f-02d910c5ba98",
   "metadata": {},
   "outputs": [],
   "source": [
    "rsq = r2_score(y_test, y_test_pred)\n",
    "rsq"
   ]
  },
  {
   "cell_type": "code",
   "execution_count": null,
   "id": "b3375b18-13c2-4491-89e1-bdd5d4abe429",
   "metadata": {},
   "outputs": [],
   "source": [
    "lr_md7.params.to_frame().round(2)"
   ]
  },
  {
   "cell_type": "markdown",
   "id": "bae5cd20-9a4a-43f0-870a-532a51d9b087",
   "metadata": {},
   "source": [
    "### **_SUMMARY_**"
   ]
  },
  {
   "cell_type": "markdown",
   "id": "b988ec96-3888-4a01-ac6b-1011abca6343",
   "metadata": {},
   "source": [
    "Dependent Vairable/Constant: cnt 2279.17\n",
    "Independent Variable/Coefficient:\n",
    "* yr                 2036.64\n",
    "* temp \t             106.00\n",
    "* windspeed \t     -35.00\n",
    "* spring \t         -940.14\n",
    "* winter \t         629.84\n",
    "* December \t         -454.86\n",
    "* January \t         -408.84\n",
    "* July \t             -512.36\n",
    "* May \t             281.73\n",
    "* November \t         -543.22\n",
    "* September \t     480.04\n",
    "* Cloudy_mist \t     -771.77\n",
    "* Light_Rain_Thunder -2341.55"
   ]
  },
  {
   "cell_type": "markdown",
   "id": "4941fa3c-571a-472d-8c46-0349281ec72f",
   "metadata": {},
   "source": [
    "### **_Regression Equation_**\n",
    "We can see that the equation of our best fitted line is:"
   ]
  },
  {
   "cell_type": "markdown",
   "id": "1e1f6102-ff30-4533-882c-8110604b2824",
   "metadata": {},
   "source": [
    " CNT = 2279.17 + 2036.64 X  yr + 106.00 X temp -35.00 X windspeed -940.14 X Spring +  629.84 X Winter - 454.86 X December  - 408.84 X January - 512.36 X July + 281.73 X May - 543.22 X November + 480.04 X September - 771.77 X Cloudy_mist - 2341.55 X Light_Rain_Thunder "
   ]
  },
  {
   "cell_type": "markdown",
   "id": "d2aa0d17-4c72-4ddf-b35c-159c9c27020f",
   "metadata": {},
   "source": [
    "Overall we have a decent model, but we also acknowledge that we could do better. \n",
    "\n",
    "We have a couple of options:\n",
    "\n",
    "Our final multiple linear regression model seeks to predict bike bookings using a collection of predictor factors. \n",
    "Following a thorough investigation, we determined the influence of each variable on bike bookings.\n",
    "The top three  variables that significantly influence bike rent are as follows:\n",
    "* **_yr_**\n",
    "* **_temp_**\n",
    "* **_windspeed_**\n"
   ]
  },
  {
   "cell_type": "markdown",
   "id": "c6f80719-feed-4c73-b0ff-4be98b978d36",
   "metadata": {},
   "source": [
    "For further analysis we should consider the below predictor also:\n",
    "* **_spring_**\n",
    "* **_winter_**\n",
    "* **_December_**\n",
    "* **_January_**\n",
    "* **_July_**\n",
    "* **_May_**\n",
    "* **_November_**\n",
    "* **_September_**\n",
    "* **_Cloudy_mist_**\n",
    "* **_Light_Rain_Thunder_**"
   ]
  },
  {
   "cell_type": "code",
   "execution_count": null,
   "id": "a54be7e5-5131-402f-817c-38893adc7508",
   "metadata": {},
   "outputs": [],
   "source": []
  }
 ],
 "metadata": {
  "kernelspec": {
   "display_name": "Python 3 (ipykernel)",
   "language": "python",
   "name": "python3"
  },
  "language_info": {
   "codemirror_mode": {
    "name": "ipython",
    "version": 3
   },
   "file_extension": ".py",
   "mimetype": "text/x-python",
   "name": "python",
   "nbconvert_exporter": "python",
   "pygments_lexer": "ipython3",
   "version": "3.11.7"
  }
 },
 "nbformat": 4,
 "nbformat_minor": 5
}
